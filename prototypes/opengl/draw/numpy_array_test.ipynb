{
 "cells": [
  {
   "cell_type": "code",
   "execution_count": 3,
   "source": [
    "import numpy as np\r\n",
    "\r\n",
    "import sys\r\n",
    "sys.path.append('..\\\\..\\\\..\\\\src') \r\n",
    "from layerMgr import *\r\n",
    "from cacheSys import *\r\n",
    "\r\n",
    "vertices = np.array([\r\n",
    "            0.0, 0.8,\r\n",
    "            -0.6, -0.8,\r\n",
    "            0.6, -0.8,\r\n",
    "        ])"
   ],
   "outputs": [],
   "metadata": {}
  },
  {
   "cell_type": "code",
   "execution_count": 4,
   "source": [
    "vertices.astype('f4').tobytes()"
   ],
   "outputs": [
    {
     "output_type": "execute_result",
     "data": {
      "text/plain": [
       "b'\\x00\\x00\\x00\\x00\\xcd\\xccL?\\x9a\\x99\\x19\\xbf\\xcd\\xccL\\xbf\\x9a\\x99\\x19?\\xcd\\xccL\\xbf'"
      ]
     },
     "metadata": {},
     "execution_count": 4
    }
   ],
   "metadata": {}
  },
  {
   "cell_type": "code",
   "execution_count": 6,
   "source": [
    "tmp = []\r\n",
    "test = [255,255,255]\r\n",
    "for x in test:\r\n",
    "    tmp += [x/255]\r\n",
    "print(tmp+test)\r\n"
   ],
   "outputs": [
    {
     "output_type": "stream",
     "name": "stdout",
     "text": [
      "[1.0, 1.0, 1.0, 255, 255, 255]\n"
     ]
    }
   ],
   "metadata": {}
  },
  {
   "cell_type": "code",
   "execution_count": null,
   "source": [],
   "outputs": [],
   "metadata": {}
  },
  {
   "cell_type": "code",
   "execution_count": null,
   "source": [],
   "outputs": [],
   "metadata": {}
  }
 ],
 "metadata": {
  "orig_nbformat": 4,
  "language_info": {
   "name": "python",
   "version": "3.8.8",
   "mimetype": "text/x-python",
   "codemirror_mode": {
    "name": "ipython",
    "version": 3
   },
   "pygments_lexer": "ipython3",
   "nbconvert_exporter": "python",
   "file_extension": ".py"
  },
  "kernelspec": {
   "name": "python3",
   "display_name": "Python 3.8.8 64-bit ('base': conda)"
  },
  "interpreter": {
   "hash": "b3ba2566441a7c06988d0923437866b63cedc61552a5af99d1f4fb67d367b25f"
  }
 },
 "nbformat": 4,
 "nbformat_minor": 2
}