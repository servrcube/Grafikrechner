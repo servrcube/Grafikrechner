{
 "cells": [
  {
   "cell_type": "code",
   "execution_count": 3,
   "source": [
    "import sys\r\n",
    "sys.path.append('..\\\\src') \r\n",
    "import layerMgr\r\n"
   ],
   "outputs": [
    {
     "output_type": "execute_result",
     "data": {
      "text/plain": [
       "[\"c:\\\\Users\\\\Soham's laptop\\\\Documents\\\\ICT Medien Produktive Umgebung\\\\GKG_Inf_2025_A - Soham\\\\211003_rechnerV2\\\\Grafikrechner\\\\tests\",\n",
       " \"c:\\\\Users\\\\Soham's laptop\\\\.vscode\\\\extensions\\\\ms-toolsai.jupyter-2021.8.2041215044\\\\pythonFiles\",\n",
       " \"c:\\\\Users\\\\Soham's laptop\\\\.vscode\\\\extensions\\\\ms-toolsai.jupyter-2021.8.2041215044\\\\pythonFiles\\\\lib\\\\python\",\n",
       " 'C:\\\\ProgramData\\\\Anaconda3\\\\python38.zip',\n",
       " 'C:\\\\ProgramData\\\\Anaconda3\\\\DLLs',\n",
       " 'C:\\\\ProgramData\\\\Anaconda3\\\\lib',\n",
       " 'C:\\\\ProgramData\\\\Anaconda3',\n",
       " '',\n",
       " 'C:\\\\ProgramData\\\\Anaconda3\\\\lib\\\\site-packages',\n",
       " 'C:\\\\ProgramData\\\\Anaconda3\\\\lib\\\\site-packages\\\\locket-0.2.1-py3.8.egg',\n",
       " 'C:\\\\ProgramData\\\\Anaconda3\\\\lib\\\\site-packages\\\\win32',\n",
       " 'C:\\\\ProgramData\\\\Anaconda3\\\\lib\\\\site-packages\\\\win32\\\\lib',\n",
       " 'C:\\\\ProgramData\\\\Anaconda3\\\\lib\\\\site-packages\\\\Pythonwin',\n",
       " 'C:\\\\ProgramData\\\\Anaconda3\\\\lib\\\\site-packages\\\\IPython\\\\extensions',\n",
       " \"C:\\\\Users\\\\Soham's laptop\\\\.ipython\",\n",
       " 'src',\n",
       " 'src',\n",
       " '..\\\\src']"
      ]
     },
     "metadata": {},
     "execution_count": 3
    }
   ],
   "metadata": {}
  },
  {
   "cell_type": "code",
   "execution_count": null,
   "source": [
    "sys.path"
   ],
   "outputs": [
    {
     "output_type": "execute_result",
     "data": {
      "text/plain": [
       "[\"c:\\\\Users\\\\Soham's laptop\\\\Documents\\\\ICT Medien Produktive Umgebung\\\\GKG_Inf_2025_A - Soham\\\\211003_rechnerV2\\\\Grafikrechner\\\\tests\",\n",
       " \"c:\\\\Users\\\\Soham's laptop\\\\.vscode\\\\extensions\\\\ms-toolsai.jupyter-2021.8.2041215044\\\\pythonFiles\",\n",
       " \"c:\\\\Users\\\\Soham's laptop\\\\.vscode\\\\extensions\\\\ms-toolsai.jupyter-2021.8.2041215044\\\\pythonFiles\\\\lib\\\\python\",\n",
       " 'C:\\\\ProgramData\\\\Anaconda3\\\\python38.zip',\n",
       " 'C:\\\\ProgramData\\\\Anaconda3\\\\DLLs',\n",
       " 'C:\\\\ProgramData\\\\Anaconda3\\\\lib',\n",
       " 'C:\\\\ProgramData\\\\Anaconda3',\n",
       " '',\n",
       " 'C:\\\\ProgramData\\\\Anaconda3\\\\lib\\\\site-packages',\n",
       " 'C:\\\\ProgramData\\\\Anaconda3\\\\lib\\\\site-packages\\\\locket-0.2.1-py3.8.egg',\n",
       " 'C:\\\\ProgramData\\\\Anaconda3\\\\lib\\\\site-packages\\\\win32',\n",
       " 'C:\\\\ProgramData\\\\Anaconda3\\\\lib\\\\site-packages\\\\win32\\\\lib',\n",
       " 'C:\\\\ProgramData\\\\Anaconda3\\\\lib\\\\site-packages\\\\Pythonwin',\n",
       " 'C:\\\\ProgramData\\\\Anaconda3\\\\lib\\\\site-packages\\\\IPython\\\\extensions',\n",
       " \"C:\\\\Users\\\\Soham's laptop\\\\.ipython\",\n",
       " '../src',\n",
       " '../src',\n",
       " '..\\\\src',\n",
       " 'src',\n",
       " 'src',\n",
       " 'src',\n",
       " 'src',\n",
       " 'src',\n",
       " 'src']"
      ]
     },
     "metadata": {},
     "execution_count": 15
    }
   ],
   "metadata": {}
  }
 ],
 "metadata": {
  "orig_nbformat": 4,
  "language_info": {
   "name": "python",
   "version": "3.8.8",
   "mimetype": "text/x-python",
   "codemirror_mode": {
    "name": "ipython",
    "version": 3
   },
   "pygments_lexer": "ipython3",
   "nbconvert_exporter": "python",
   "file_extension": ".py"
  },
  "kernelspec": {
   "name": "python3",
   "display_name": "Python 3.8.8 64-bit ('base': conda)"
  },
  "interpreter": {
   "hash": "b3ba2566441a7c06988d0923437866b63cedc61552a5af99d1f4fb67d367b25f"
  }
 },
 "nbformat": 4,
 "nbformat_minor": 2
}