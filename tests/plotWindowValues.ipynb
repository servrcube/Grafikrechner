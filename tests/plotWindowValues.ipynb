{
 "cells": [
  {
   "cell_type": "code",
   "execution_count": 1,
   "source": [
    "import sys\r\n",
    "sys.path.append('..\\\\src') \r\n",
    "\r\n",
    "from plot import *\r\n",
    "from sys import getsizeof\r\n",
    "from layerMgr import *\r\n",
    "from math import *\r\n",
    "from cacheSys import *"
   ],
   "outputs": [],
   "metadata": {}
  },
  {
   "cell_type": "code",
   "execution_count": 2,
   "source": [
    "#beginnning programm\r\n",
    "#init all vars\r\n",
    "\r\n",
    "#the unit length\r\n",
    "\r\n",
    "#the accuracy of a step over change in x\r\n",
    "dx = 0.01\r\n",
    "\r\n",
    "#width of line\r\n",
    "dotSize = 1\r\n",
    "\r\n",
    "#dimentions of graph positive and negative axis following order: xmin,xmax,ymin,ymax\r\n",
    "winDim = matrix([[-10,-10],[10,10]])\r\n",
    "\r\n",
    "#basis vectors\r\n",
    "i_hat = [1,0]\r\n",
    "j_hat = [0,1]\r\n",
    "\r\n",
    "\r\n",
    "\r\n",
    "#init window\r\n",
    "coords = coords(dx, winDim, matrix([i_hat, j_hat]))\r\n"
   ],
   "outputs": [],
   "metadata": {}
  },
  {
   "cell_type": "code",
   "execution_count": 4,
   "source": [
    "#few simple functions\r\n",
    "def line(x):\r\n",
    "    return 1\r\n",
    "def simple(x):\r\n",
    "    y = x**2-4\r\n",
    "    return y\r\n",
    "def simple2(x):\r\n",
    "    y = x*2-4\r\n",
    "    return y\r\n",
    "def breakingFunction(x):\r\n",
    "    y = acosh(x)\r\n",
    "    return y\r\n",
    "\r\n",
    "#run functions\r\n",
    "simpleOut = coords.runFunction(simple)\r\n",
    "simple2Out  = coords.runFunction(simple2)\r\n",
    "lineOut = coords.runFunction(line)\r\n",
    "\r\n",
    "#to fix domain error used try:, except:\r\n",
    "breakingFunctionOut = coords.runFunction(breakingFunction)\r\n",
    "\r\n",
    "#make a layers of the output coordinates\r\n",
    "layerSimple = layer(simpleOut)\r\n",
    "layerSimple2 = layer(simple2Out)\r\n",
    "layerLine = layer(lineOut)\r\n",
    "layerBreakingFunction = layer(breakingFunctionOut)\r\n",
    "\r\n",
    "\r\n",
    "\r\n",
    "\r\n",
    "#simple dot\r\n",
    "layerPoint = layer(coords.point(5,1))\r\n",
    "\r\n"
   ],
   "outputs": [],
   "metadata": {}
  },
  {
   "cell_type": "code",
   "execution_count": null,
   "source": [],
   "outputs": [],
   "metadata": {}
  },
  {
   "cell_type": "code",
   "execution_count": 5,
   "source": [
    "layers = layerMgr()\r\n",
    "\r\n",
    "layers.addLayer(\"simple\", layerSimple)\r\n",
    "layers.addLayer(\"simple2\", layerSimple2)\r\n",
    "layers.addLayer(\"line\", layerLine)\r\n",
    "layers.addLayer(\"breakingFunction\", layerBreakingFunction)"
   ],
   "outputs": [],
   "metadata": {}
  },
  {
   "cell_type": "code",
   "execution_count": 6,
   "source": [
    "local_vars = list(locals().items())\r\n",
    "total = 0\r\n",
    "for var, obj in local_vars:\r\n",
    "    total += sys.getsizeof(obj)"
   ],
   "outputs": [],
   "metadata": {}
  },
  {
   "cell_type": "code",
   "execution_count": 7,
   "source": [
    "print(total/1000)"
   ],
   "outputs": [
    {
     "output_type": "stream",
     "name": "stdout",
     "text": [
      "60.544\n"
     ]
    }
   ],
   "metadata": {}
  },
  {
   "cell_type": "code",
   "execution_count": null,
   "source": [],
   "outputs": [],
   "metadata": {}
  }
 ],
 "metadata": {
  "orig_nbformat": 4,
  "language_info": {
   "name": "python",
   "version": "3.8.8",
   "mimetype": "text/x-python",
   "codemirror_mode": {
    "name": "ipython",
    "version": 3
   },
   "pygments_lexer": "ipython3",
   "nbconvert_exporter": "python",
   "file_extension": ".py"
  },
  "kernelspec": {
   "name": "python3",
   "display_name": "Python 3.8.8 64-bit ('base': conda)"
  },
  "interpreter": {
   "hash": "b3ba2566441a7c06988d0923437866b63cedc61552a5af99d1f4fb67d367b25f"
  }
 },
 "nbformat": 4,
 "nbformat_minor": 2
}