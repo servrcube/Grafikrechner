{
 "cells": [
  {
   "cell_type": "code",
   "execution_count": 4,
   "source": [
    "import sys\r\n",
    "sys.path.append('..\\\\src') \r\n",
    "\r\n",
    "from plot import *\r\n",
    "from sys import getsizeof\r\n",
    "from layerMgr import *\r\n",
    "from math import *"
   ],
   "outputs": [],
   "metadata": {}
  },
  {
   "cell_type": "code",
   "execution_count": 5,
   "source": [
    "#beginnning programm\r\n",
    "\r\n",
    "\r\n",
    "#init all vars\r\n",
    "\r\n",
    "#the unit length\r\n",
    "\r\n",
    "#the accuracy of a step over change in x\r\n",
    "dx = 0.01\r\n",
    "\r\n",
    "#width of line\r\n",
    "dotSize = 1\r\n",
    "\r\n",
    "#dimentions of graph positive and negative axis following order: xmin,xmax,ymin,ymax\r\n",
    "winDim = matrix([[-10,-10],[10,10]])\r\n",
    "\r\n",
    "#basis vectors\r\n",
    "i_hat = [1,0]\r\n",
    "j_hat = [0,1]\r\n",
    "\r\n",
    "\r\n",
    "\r\n",
    "coords = coords(dx, winDim, matrix([i_hat, j_hat]))\r\n"
   ],
   "outputs": [],
   "metadata": {}
  },
  {
   "cell_type": "code",
   "execution_count": 6,
   "source": [
    "#init window\r\n",
    "#few simple functions\r\n",
    "def line(x):\r\n",
    "    return 1\r\n",
    "def simple(x):\r\n",
    "    y = x**2-4\r\n",
    "    return y\r\n",
    "def simple2(x):\r\n",
    "    y = x*2-4\r\n",
    "    return y\r\n",
    "def breakingFunction(x):\r\n",
    "    y = acosh(x)\r\n",
    "    return y\r\n",
    "\r\n",
    "#run functions\r\n",
    "cordinates = coords.runFunction(simple)\r\n",
    "\r\n",
    "#make a layer of the output coordinates\r\n",
    "layerSimple = layer(cordinates)\r\n",
    "\r\n",
    "layerSimple2  = layer(coords.runFunction(simple2))\r\n",
    "layerLine = layer(coords.runFunction(line))\r\n",
    "\r\n",
    "#to fix domain error used try:, except:\r\n",
    "layerBreakingFunction = layer(coords.runFunction(breakingFunction))\r\n",
    "\r\n",
    "#simple dot\r\n",
    "layerPoint = layer(coords.point(5,1))\r\n",
    "\r\n"
   ],
   "outputs": [],
   "metadata": {}
  },
  {
   "cell_type": "code",
   "execution_count": 7,
   "source": [
    "layers = layerMgr()\r\n",
    "\r\n",
    "layers.addLayer(\"simple\", layerSimple)\r\n",
    "layers.addLayer(\"simple2\", layerSimple2)\r\n",
    "layers.addLayer(\"line\", layerLine)\r\n",
    "layers.addLayer(\"breakingFunction\", layerBreakingFunction)"
   ],
   "outputs": [],
   "metadata": {}
  },
  {
   "cell_type": "code",
   "execution_count": 8,
   "source": [
    "local_vars = list(locals().items())\r\n",
    "total = 0\r\n",
    "for var, obj in local_vars:\r\n",
    "    total += sys.getsizeof(obj)"
   ],
   "outputs": [
    {
     "output_type": "error",
     "ename": "SyntaxError",
     "evalue": "unmatched ')' (<ipython-input-8-0b621757a5c1>, line 4)",
     "traceback": [
      "\u001b[1;36m  File \u001b[1;32m\"<ipython-input-8-0b621757a5c1>\"\u001b[1;36m, line \u001b[1;32m4\u001b[0m\n\u001b[1;33m    total += sys.getsizeof(obj))\u001b[0m\n\u001b[1;37m                               ^\u001b[0m\n\u001b[1;31mSyntaxError\u001b[0m\u001b[1;31m:\u001b[0m unmatched ')'\n"
     ]
    }
   ],
   "metadata": {}
  },
  {
   "cell_type": "code",
   "execution_count": null,
   "source": [
    "print(total/1000)"
   ],
   "outputs": [
    {
     "output_type": "stream",
     "name": "stdout",
     "text": [
      "23.238\n"
     ]
    }
   ],
   "metadata": {}
  },
  {
   "cell_type": "code",
   "execution_count": null,
   "source": [
    "import pickle\r\n",
    "file = open(\"test.window\",\"wb\")\r\n",
    "pickle.dump(layers, file)\r\n",
    "file.close()"
   ],
   "outputs": [],
   "metadata": {}
  }
 ],
 "metadata": {
  "orig_nbformat": 4,
  "language_info": {
   "name": "python",
   "version": "3.8.8",
   "mimetype": "text/x-python",
   "codemirror_mode": {
    "name": "ipython",
    "version": 3
   },
   "pygments_lexer": "ipython3",
   "nbconvert_exporter": "python",
   "file_extension": ".py"
  },
  "kernelspec": {
   "name": "python3",
   "display_name": "Python 3.8.8 64-bit ('base': conda)"
  },
  "interpreter": {
   "hash": "b3ba2566441a7c06988d0923437866b63cedc61552a5af99d1f4fb67d367b25f"
  }
 },
 "nbformat": 4,
 "nbformat_minor": 2
}